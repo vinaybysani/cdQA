{
 "cells": [
  {
   "cell_type": "markdown",
   "metadata": {},
   "source": [
    "# Notebook [1]: First steps with cdQA"
   ]
  },
  {
   "cell_type": "markdown",
   "metadata": {},
   "source": [
    "This notebook shows how to use the `cdQA` pipeline to perform question answering on a custom dataset."
   ]
  },
  {
   "cell_type": "markdown",
   "metadata": {},
   "source": [
    "***Note:*** *If you are using colab, you will need to install `cdQA` by executing `!pip install cdqa` in a cell.*"
   ]
  },
  {
   "cell_type": "code",
   "execution_count": 1,
   "metadata": {
    "ExecuteTime": {
     "end_time": "2019-07-20T13:32:09.138284Z",
     "start_time": "2019-07-20T13:32:01.868622Z"
    },
    "scrolled": true
   },
   "outputs": [
    {
     "name": "stdout",
     "output_type": "stream",
     "text": [
      "Requirement already satisfied: cdqa in /Users/vinay.bysani/anaconda3/envs/cdqa/lib/python3.7/site-packages (1.1.1)\n",
      "Requirement already satisfied: wget in /Users/vinay.bysani/anaconda3/envs/cdqa/lib/python3.7/site-packages (from cdqa) (3.2)\n",
      "Requirement already satisfied: pytorch-pretrained-bert in /Users/vinay.bysani/anaconda3/envs/cdqa/lib/python3.7/site-packages (from cdqa) (0.6.2)\n",
      "Requirement already satisfied: tika in /Users/vinay.bysani/anaconda3/envs/cdqa/lib/python3.7/site-packages (from cdqa) (1.19)\n",
      "Requirement already satisfied: joblib in /Users/vinay.bysani/anaconda3/envs/cdqa/lib/python3.7/site-packages (from cdqa) (0.13.2)\n",
      "Requirement already satisfied: Flask in /Users/vinay.bysani/anaconda3/envs/cdqa/lib/python3.7/site-packages (from cdqa) (1.1.1)\n",
      "Requirement already satisfied: pandas in /Users/vinay.bysani/anaconda3/envs/cdqa/lib/python3.7/site-packages (from cdqa) (0.25.1)\n",
      "Requirement already satisfied: tqdm in /Users/vinay.bysani/anaconda3/envs/cdqa/lib/python3.7/site-packages (from cdqa) (4.35.0)\n",
      "Requirement already satisfied: markdown in /Users/vinay.bysani/anaconda3/envs/cdqa/lib/python3.7/site-packages (from cdqa) (3.1.1)\n",
      "Requirement already satisfied: prettytable in /Users/vinay.bysani/anaconda3/envs/cdqa/lib/python3.7/site-packages (from cdqa) (0.7.2)\n",
      "Requirement already satisfied: scikit-learn in /Users/vinay.bysani/anaconda3/envs/cdqa/lib/python3.7/site-packages (from cdqa) (0.21.3)\n",
      "Requirement already satisfied: flask-cors in /Users/vinay.bysani/anaconda3/envs/cdqa/lib/python3.7/site-packages (from cdqa) (3.0.8)\n",
      "Requirement already satisfied: torch>=0.4.1 in /Users/vinay.bysani/anaconda3/envs/cdqa/lib/python3.7/site-packages (from pytorch-pretrained-bert->cdqa) (1.2.0)\n",
      "Requirement already satisfied: requests in /Users/vinay.bysani/anaconda3/envs/cdqa/lib/python3.7/site-packages (from pytorch-pretrained-bert->cdqa) (2.22.0)\n",
      "Requirement already satisfied: numpy in /Users/vinay.bysani/anaconda3/envs/cdqa/lib/python3.7/site-packages (from pytorch-pretrained-bert->cdqa) (1.16.5)\n",
      "Requirement already satisfied: boto3 in /Users/vinay.bysani/anaconda3/envs/cdqa/lib/python3.7/site-packages (from pytorch-pretrained-bert->cdqa) (1.9.228)\n",
      "Requirement already satisfied: regex in /Users/vinay.bysani/anaconda3/envs/cdqa/lib/python3.7/site-packages (from pytorch-pretrained-bert->cdqa) (2019.8.19)\n",
      "Requirement already satisfied: setuptools in /Users/vinay.bysani/anaconda3/envs/cdqa/lib/python3.7/site-packages (from tika->cdqa) (41.0.1)\n",
      "Requirement already satisfied: Jinja2>=2.10.1 in /Users/vinay.bysani/anaconda3/envs/cdqa/lib/python3.7/site-packages (from Flask->cdqa) (2.10.1)\n",
      "Requirement already satisfied: click>=5.1 in /Users/vinay.bysani/anaconda3/envs/cdqa/lib/python3.7/site-packages (from Flask->cdqa) (7.0)\n",
      "Requirement already satisfied: Werkzeug>=0.15 in /Users/vinay.bysani/anaconda3/envs/cdqa/lib/python3.7/site-packages (from Flask->cdqa) (0.15.6)\n",
      "Requirement already satisfied: itsdangerous>=0.24 in /Users/vinay.bysani/anaconda3/envs/cdqa/lib/python3.7/site-packages (from Flask->cdqa) (1.1.0)\n",
      "Requirement already satisfied: pytz>=2017.2 in /Users/vinay.bysani/anaconda3/envs/cdqa/lib/python3.7/site-packages (from pandas->cdqa) (2019.2)\n",
      "Requirement already satisfied: python-dateutil>=2.6.1 in /Users/vinay.bysani/anaconda3/envs/cdqa/lib/python3.7/site-packages (from pandas->cdqa) (2.8.0)\n",
      "Requirement already satisfied: scipy>=0.17.0 in /Users/vinay.bysani/anaconda3/envs/cdqa/lib/python3.7/site-packages (from scikit-learn->cdqa) (1.3.1)\n",
      "Requirement already satisfied: Six in /Users/vinay.bysani/anaconda3/envs/cdqa/lib/python3.7/site-packages (from flask-cors->cdqa) (1.12.0)\n",
      "Requirement already satisfied: certifi>=2017.4.17 in /Users/vinay.bysani/anaconda3/envs/cdqa/lib/python3.7/site-packages (from requests->pytorch-pretrained-bert->cdqa) (2019.6.16)\n",
      "Requirement already satisfied: idna<2.9,>=2.5 in /Users/vinay.bysani/anaconda3/envs/cdqa/lib/python3.7/site-packages (from requests->pytorch-pretrained-bert->cdqa) (2.8)\n",
      "Requirement already satisfied: chardet<3.1.0,>=3.0.2 in /Users/vinay.bysani/anaconda3/envs/cdqa/lib/python3.7/site-packages (from requests->pytorch-pretrained-bert->cdqa) (3.0.4)\n",
      "Requirement already satisfied: urllib3!=1.25.0,!=1.25.1,<1.26,>=1.21.1 in /Users/vinay.bysani/anaconda3/envs/cdqa/lib/python3.7/site-packages (from requests->pytorch-pretrained-bert->cdqa) (1.25.3)\n",
      "Requirement already satisfied: botocore<1.13.0,>=1.12.228 in /Users/vinay.bysani/anaconda3/envs/cdqa/lib/python3.7/site-packages (from boto3->pytorch-pretrained-bert->cdqa) (1.12.228)\n",
      "Requirement already satisfied: jmespath<1.0.0,>=0.7.1 in /Users/vinay.bysani/anaconda3/envs/cdqa/lib/python3.7/site-packages (from boto3->pytorch-pretrained-bert->cdqa) (0.9.4)\n",
      "Requirement already satisfied: s3transfer<0.3.0,>=0.2.0 in /Users/vinay.bysani/anaconda3/envs/cdqa/lib/python3.7/site-packages (from boto3->pytorch-pretrained-bert->cdqa) (0.2.1)\n",
      "Requirement already satisfied: MarkupSafe>=0.23 in /Users/vinay.bysani/anaconda3/envs/cdqa/lib/python3.7/site-packages (from Jinja2>=2.10.1->Flask->cdqa) (1.1.1)\n",
      "Requirement already satisfied: docutils<0.16,>=0.10 in /Users/vinay.bysani/anaconda3/envs/cdqa/lib/python3.7/site-packages (from botocore<1.13.0,>=1.12.228->boto3->pytorch-pretrained-bert->cdqa) (0.15.2)\n"
     ]
    },
    {
     "name": "stderr",
     "output_type": "stream",
     "text": [
      "/Users/vinay.bysani/anaconda3/envs/cdqa/lib/python3.7/site-packages/tqdm/autonotebook/__init__.py:18: TqdmExperimentalWarning: Using `tqdm.autonotebook.tqdm` in notebook mode. Use `tqdm.tqdm` instead to force console mode (e.g. in jupyter console)\n",
      "  \" (e.g. in jupyter console)\", TqdmExperimentalWarning)\n"
     ]
    }
   ],
   "source": [
    "!pip install cdqa\n",
    "\n",
    "import os\n",
    "import pandas as pd\n",
    "from ast import literal_eval\n",
    "\n",
    "from cdqa.utils.filters import filter_paragraphs\n",
    "from cdqa.pipeline.cdqa_sklearn import QAPipeline"
   ]
  },
  {
   "cell_type": "markdown",
   "metadata": {},
   "source": [
    "### Download pre-trained reader model and example dataset"
   ]
  },
  {
   "cell_type": "raw",
   "metadata": {
    "ExecuteTime": {
     "end_time": "2019-07-20T13:33:36.002880Z",
     "start_time": "2019-07-20T13:32:10.618797Z"
    }
   },
   "source": [
    "from cdqa.utils.download import download_model, download_bnpp_data\n",
    "\n",
    "download_bnpp_data(dir='./data/bnpp_newsroom_v1.1/')\n",
    "download_model(model='bert-squad_1.1', dir='./models')"
   ]
  },
  {
   "cell_type": "raw",
   "metadata": {},
   "source": [
    "# Create csv\n",
    "print(open('./email_data/CC_13.txt', 'r').read())\n"
   ]
  },
  {
   "cell_type": "raw",
   "metadata": {},
   "source": [
    "# read all txt files\n",
    "import glob\n",
    "txt_files = glob.glob(\"email_data/*.txt\")\n",
    "data = {'title': [], 'paragraphs': []}\n",
    "for f in txt_files:\n",
    "    txt = open(f'./{f}', 'r').read()\n",
    "    data['title'].append(f)\n",
    "    data['paragraphs'].append(txt.split(\"\\n\"))\n",
    "\n",
    "df = pd.DataFrame.from_dict(data)\n",
    "df.to_csv('all_emails.csv')\n",
    "df"
   ]
  },
  {
   "cell_type": "raw",
   "metadata": {},
   "source": [
    "import re\n",
    "file_name = 'CC_13'\n",
    "s = open(f'./email_data/{file_name}.txt', 'r').read()\n",
    "tests = s.split(\"\\n\")\n",
    "data = {'title': ['a', 'b', 'c', 'd', 'e'], 'paragraphs': [tests]*5}\n",
    "df = pd.DataFrame.from_dict(data)"
   ]
  },
  {
   "cell_type": "markdown",
   "metadata": {},
   "source": [
    "### Read sample txt file"
   ]
  },
  {
   "cell_type": "code",
   "execution_count": 2,
   "metadata": {
    "scrolled": true
   },
   "outputs": [
    {
     "data": {
      "text/plain": [
       "{'title': ['test_email'],\n",
       " 'paragraphs': [['Hi,',\n",
       "   '',\n",
       "   'Please do an transfer of $15000 from checking 1243 as follows:',\n",
       "   '',\n",
       "   'Bank:\\t\\t\\tChase Bank',\n",
       "   'Routing:\\t\\t0123445466',\n",
       "   'Account #:\\t\\t987654412',\n",
       "   'Account Name: Sample company LLC',\n",
       "   'Ref: \\t\\t\\tInvoice 6754',\n",
       "   '',\n",
       "   'Thank you',\n",
       "   'Tameka',\n",
       "   '',\n",
       "   'John Sam',\n",
       "   'Executive Assistant',\n",
       "   'SSC corp']]}"
      ]
     },
     "execution_count": 2,
     "metadata": {},
     "output_type": "execute_result"
    }
   ],
   "source": [
    "data = {'title': [], 'paragraphs': []}\n",
    "txt = open('test_emails/test_email_1.txt', 'r').read()\n",
    "data['title'].append('test_email')\n",
    "data['paragraphs'].append(txt.split(\"\\n\"))\n",
    "data"
   ]
  },
  {
   "cell_type": "code",
   "execution_count": 3,
   "metadata": {
    "scrolled": true
   },
   "outputs": [
    {
     "data": {
      "text/plain": [
       "['Hi,',\n",
       " '',\n",
       " 'Please do an transfer of $15000 from checking 1243 as follows:',\n",
       " '',\n",
       " 'Bank:\\t\\t\\tChase Bank',\n",
       " 'Routing:\\t\\t0123445466',\n",
       " 'Account #:\\t\\t987654412',\n",
       " 'Account Name: Sample company LLC',\n",
       " 'Ref: \\t\\t\\tInvoice 6754',\n",
       " '',\n",
       " 'Thank you',\n",
       " 'Tameka',\n",
       " '',\n",
       " 'John Sam',\n",
       " 'Executive Assistant',\n",
       " 'SSC corp']"
      ]
     },
     "execution_count": 3,
     "metadata": {},
     "output_type": "execute_result"
    }
   ],
   "source": [
    "# df before filtering\n",
    "# convert to df\n",
    "test_df = pd.DataFrame.from_dict(data)\n",
    "test_df.iloc[0]['paragraphs']"
   ]
  },
  {
   "cell_type": "code",
   "execution_count": 4,
   "metadata": {},
   "outputs": [],
   "source": [
    "# df after filtering\n",
    "# test_df = filter_paragraphs(test_df)\n",
    "# test_df\n",
    "# test_df.iloc[0]['paragraphs']"
   ]
  },
  {
   "cell_type": "code",
   "execution_count": 5,
   "metadata": {},
   "outputs": [
    {
     "data": {
      "text/html": [
       "<div>\n",
       "<style scoped>\n",
       "    .dataframe tbody tr th:only-of-type {\n",
       "        vertical-align: middle;\n",
       "    }\n",
       "\n",
       "    .dataframe tbody tr th {\n",
       "        vertical-align: top;\n",
       "    }\n",
       "\n",
       "    .dataframe thead th {\n",
       "        text-align: right;\n",
       "    }\n",
       "</style>\n",
       "<table border=\"1\" class=\"dataframe\">\n",
       "  <thead>\n",
       "    <tr style=\"text-align: right;\">\n",
       "      <th></th>\n",
       "      <th>title</th>\n",
       "      <th>paragraphs</th>\n",
       "    </tr>\n",
       "  </thead>\n",
       "  <tbody>\n",
       "    <tr>\n",
       "      <td>0</td>\n",
       "      <td>test_email</td>\n",
       "      <td>[Hi,, , Please do an transfer of $15000 from c...</td>\n",
       "    </tr>\n",
       "    <tr>\n",
       "      <td>1</td>\n",
       "      <td>BNP Paribas at #VivaTech : discover the progra...</td>\n",
       "      <td>[From may 16, 2019 to may 18, 2019, VivaTechno...</td>\n",
       "    </tr>\n",
       "    <tr>\n",
       "      <td>2</td>\n",
       "      <td>The banking jobs : Assistant Vice President – ...</td>\n",
       "      <td>[When Artificial Intelligence participates in ...</td>\n",
       "    </tr>\n",
       "    <tr>\n",
       "      <td>3</td>\n",
       "      <td>BNP Paribas at #VivaTech : discover the progra...</td>\n",
       "      <td>[From may 16, 2019 to may 18, 2019, VivaTechno...</td>\n",
       "    </tr>\n",
       "    <tr>\n",
       "      <td>4</td>\n",
       "      <td>\"The bank with an IT budget of more than EUR6 ...</td>\n",
       "      <td>[Nordic region: an opportunity for Europe?, In...</td>\n",
       "    </tr>\n",
       "  </tbody>\n",
       "</table>\n",
       "</div>"
      ],
      "text/plain": [
       "                                               title  \\\n",
       "0                                         test_email   \n",
       "1  BNP Paribas at #VivaTech : discover the progra...   \n",
       "2  The banking jobs : Assistant Vice President – ...   \n",
       "3  BNP Paribas at #VivaTech : discover the progra...   \n",
       "4  \"The bank with an IT budget of more than EUR6 ...   \n",
       "\n",
       "                                          paragraphs  \n",
       "0  [Hi,, , Please do an transfer of $15000 from c...  \n",
       "1  [From may 16, 2019 to may 18, 2019, VivaTechno...  \n",
       "2  [When Artificial Intelligence participates in ...  \n",
       "3  [From may 16, 2019 to may 18, 2019, VivaTechno...  \n",
       "4  [Nordic region: an opportunity for Europe?, In...  "
      ]
     },
     "execution_count": 5,
     "metadata": {},
     "output_type": "execute_result"
    }
   ],
   "source": [
    "other_df = pd.read_csv('./data/bnpp_newsroom_v1.1/bnpp_newsroom-v1.1.csv', converters={'paragraphs': literal_eval})\n",
    "other_df = other_df.head(4)[['title', 'paragraphs']]\n",
    "df = pd.concat([test_df, other_df], ignore_index=True)\n",
    "df"
   ]
  },
  {
   "cell_type": "markdown",
   "metadata": {},
   "source": [
    "### Instantiate the cdQA pipeline from a pre-trained CPU reader"
   ]
  },
  {
   "cell_type": "code",
   "execution_count": 6,
   "metadata": {
    "ExecuteTime": {
     "end_time": "2019-07-20T13:35:07.072516Z",
     "start_time": "2019-07-20T13:35:02.764545Z"
    }
   },
   "outputs": [
    {
     "data": {
      "text/plain": [
       "QAPipeline(reader=BertQA(bert_model='bert-base-uncased', do_lower_case=True,\n",
       "                         fp16=False, gradient_accumulation_steps=1,\n",
       "                         learning_rate=3e-05, local_rank=-1, loss_scale=0,\n",
       "                         max_answer_length=30, n_best_size=20, no_cuda=False,\n",
       "                         null_score_diff_threshold=0.0, num_train_epochs=2,\n",
       "                         output_dir=None, predict_batch_size=8, seed=42,\n",
       "                         server_ip='', server_port='', train_batch_size=8,\n",
       "                         verbose_logging=False, version_2_with_negative=False,\n",
       "                         warmup_proportion=0.1))"
      ]
     },
     "execution_count": 6,
     "metadata": {},
     "output_type": "execute_result"
    }
   ],
   "source": [
    "cdqa_pipeline = QAPipeline(reader='./models/bert_qa_vCPU-sklearn.joblib')\n",
    "cdqa_pipeline.fit_retriever(X=df)"
   ]
  },
  {
   "cell_type": "markdown",
   "metadata": {},
   "source": [
    "### Execute a query"
   ]
  },
  {
   "cell_type": "code",
   "execution_count": 7,
   "metadata": {},
   "outputs": [
    {
     "name": "stderr",
     "output_type": "stream",
     "text": [
      "3it [00:00, 859.08it/s]\n"
     ]
    },
    {
     "name": "stdout",
     "output_type": "stream",
     "text": [
      "query: what is routing?\n",
      "answer: 0123445466\n",
      "title: test_email\n",
      "paragraph: Routing:\t\t0123445466\n"
     ]
    }
   ],
   "source": [
    "query = \"what is routing?\"\n",
    "prediction = cdqa_pipeline.predict(X=query)\n",
    "print('query: {}'.format(query))\n",
    "print('answer: {}'.format(prediction[0]))\n",
    "print('title: {}'.format(prediction[1]))\n",
    "print('paragraph: {}'.format(prediction[2]))"
   ]
  },
  {
   "cell_type": "code",
   "execution_count": 8,
   "metadata": {},
   "outputs": [
    {
     "name": "stderr",
     "output_type": "stream",
     "text": [
      "3it [00:00, 1832.64it/s]\n"
     ]
    },
    {
     "name": "stdout",
     "output_type": "stream",
     "text": [
      "query: what is the bank name?\n",
      "answer: Chase Bank\n",
      "title: test_email\n",
      "paragraph: Bank:\t\t\tChase Bank\n"
     ]
    }
   ],
   "source": [
    "query = \"what is the bank name?\"\n",
    "prediction = cdqa_pipeline.predict(X=query)\n",
    "print('query: {}'.format(query))\n",
    "print('answer: {}'.format(prediction[0]))\n",
    "print('title: {}'.format(prediction[1]))\n",
    "print('paragraph: {}'.format(prediction[2]))"
   ]
  },
  {
   "cell_type": "code",
   "execution_count": null,
   "metadata": {},
   "outputs": [],
   "source": []
  }
 ],
 "metadata": {
  "hide_input": false,
  "kernelspec": {
   "display_name": "Python 3",
   "language": "python",
   "name": "python3"
  },
  "language_info": {
   "codemirror_mode": {
    "name": "ipython",
    "version": 3
   },
   "file_extension": ".py",
   "mimetype": "text/x-python",
   "name": "python",
   "nbconvert_exporter": "python",
   "pygments_lexer": "ipython3",
   "version": "3.7.4"
  },
  "toc": {
   "base_numbering": 1,
   "nav_menu": {},
   "number_sections": true,
   "sideBar": true,
   "skip_h1_title": false,
   "title_cell": "Table of Contents",
   "title_sidebar": "Contents",
   "toc_cell": false,
   "toc_position": {},
   "toc_section_display": true,
   "toc_window_display": false
  },
  "varInspector": {
   "cols": {
    "lenName": 16,
    "lenType": 16,
    "lenVar": 40
   },
   "kernels_config": {
    "python": {
     "delete_cmd_postfix": "",
     "delete_cmd_prefix": "del ",
     "library": "var_list.py",
     "varRefreshCmd": "print(var_dic_list())"
    },
    "r": {
     "delete_cmd_postfix": ") ",
     "delete_cmd_prefix": "rm(",
     "library": "var_list.r",
     "varRefreshCmd": "cat(var_dic_list()) "
    }
   },
   "types_to_exclude": [
    "module",
    "function",
    "builtin_function_or_method",
    "instance",
    "_Feature"
   ],
   "window_display": false
  }
 },
 "nbformat": 4,
 "nbformat_minor": 4
}
